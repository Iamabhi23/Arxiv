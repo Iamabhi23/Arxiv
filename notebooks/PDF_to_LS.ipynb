{
 "cells": [
  {
   "cell_type": "markdown",
   "metadata": {},
   "source": [
    "# Convert PDFs to Corpus File"
   ]
  },
  {
   "cell_type": "markdown",
   "metadata": {},
   "source": [
    "This file converst the PDF papers into a corpus file to train with doc2vec"
   ]
  },
  {
   "cell_type": "code",
   "execution_count": 14,
   "metadata": {},
   "outputs": [],
   "source": [
    "%reload_ext autoreload\n",
    "%autoreload 2\n",
    "import sys\n",
    "sys.path.append('../src')\n",
    "from ParsePDF import PDF_loader\n",
    "from gensim.utils import save_as_line_sentence\n",
    "import pandas as pd"
   ]
  },
  {
   "cell_type": "markdown",
   "metadata": {},
   "source": [
    "Load the class from the PDF loader that was written."
   ]
  },
  {
   "cell_type": "code",
   "execution_count": 7,
   "metadata": {},
   "outputs": [],
   "source": [
    "pdf = PDF_loader('../../cs/')"
   ]
  },
  {
   "cell_type": "markdown",
   "metadata": {},
   "source": [
    "Feed the generator class of the PDFs to the line sentence converter for saving the corpus file."
   ]
  },
  {
   "cell_type": "code",
   "execution_count": 9,
   "metadata": {},
   "outputs": [
    {
     "name": "stdout",
     "output_type": "stream",
     "text": [
      "../../cs/2209.08776v2.NeRF_SOS_Any_View_Self_supervised_Object_Segmentation_from_Complex_Real_World_Scenes.pdf\n",
      "../../cs/2209.08790v1.D_D_Learning_Human_Dynamics_from_Dynamic_Camera.pdf\n",
      "../../cs/2209.09208v1.Proceedings_of_the_Sixth_Working_Formal_Methods_Symposium.pdf\n",
      "../../cs/2209.09333v1.Proceedings_of_the_13th_International_Symposium_on_Games_Automata_Logics_and_Formal_Verification.pdf\n",
      "../../cs/2209.09481v1.Feature_embedding_in_click_through_rate_prediction.pdf\n",
      "../../cs/2209.09582v1.Simultaneous_segmentation_and_classification_of_the_retinal_arteries_and_veins_from_color_fundus_images.pdf\n",
      "../../cs/2209.10529v1.Benchmarking_and_Analyzing_3D_Human_Pose_and_Shape_Estimation_Beyond_Algorithms.pdf\n"
     ]
    }
   ],
   "source": [
    "save_as_line_sentence(pdf, '../data/courpus_file')"
   ]
  },
  {
   "cell_type": "markdown",
   "metadata": {},
   "source": [
    "During the conversion some files are corrupted due to a lack of a proper dictionary and throw a latex error. These file names are collected and then removed from the metadata for search."
   ]
  },
  {
   "cell_type": "code",
   "execution_count": 10,
   "metadata": {},
   "outputs": [],
   "source": [
    "bad_files = ['2209.08776v2.NeRF_SOS_Any_View_Self_supervised_Object_Segmentation_from_Complex_Real_World_Scenes.pdf',\n",
    "'2209.08790v1.D_D_Learning_Human_Dynamics_from_Dynamic_Camera.pdf',\n",
    "'2209.09208v1.Proceedings_of_the_Sixth_Working_Formal_Methods_Symposium.pdf',\n",
    "'2209.09333v1.Proceedings_of_the_13th_International_Symposium_on_Games_Automata_Logics_and_Formal_Verification.pdf',\n",
    "'2209.09481v1.Feature_embedding_in_click_through_rate_prediction.pdf',\n",
    "'2209.09582v1.Simultaneous_segmentation_and_classification_of_the_retinal_arteries_and_veins_from_color_fundus_images.pdf',\n",
    "'2209.10529v1.Benchmarking_and_Analyzing_3D_Human_Pose_and_Shape_Estimation_Beyond_Algorithms.pdf']"
   ]
  },
  {
   "cell_type": "code",
   "execution_count": 11,
   "metadata": {},
   "outputs": [],
   "source": [
    "files = os.listdir('../../cs/')"
   ]
  },
  {
   "cell_type": "code",
   "execution_count": 15,
   "metadata": {},
   "outputs": [],
   "source": [
    "file_df = pd.DataFrame(files, columns = ['file_name'])"
   ]
  },
  {
   "cell_type": "code",
   "execution_count": 18,
   "metadata": {},
   "outputs": [],
   "source": [
    "bad_ix = file_df.loc[file_df.loc[:, \"file_name\"].isin(bad_files)].index"
   ]
  },
  {
   "cell_type": "code",
   "execution_count": 19,
   "metadata": {},
   "outputs": [],
   "source": [
    "file_df = file_df.drop(bad_ix)"
   ]
  },
  {
   "cell_type": "code",
   "execution_count": 20,
   "metadata": {},
   "outputs": [],
   "source": [
    "file_df.reset_index(inplace=True)"
   ]
  },
  {
   "cell_type": "code",
   "execution_count": 22,
   "metadata": {},
   "outputs": [],
   "source": [
    "file_df.drop(columns='index', inplace=True)"
   ]
  },
  {
   "cell_type": "code",
   "execution_count": 24,
   "metadata": {},
   "outputs": [],
   "source": [
    "file_df.to_csv('../data/file_order.csv')"
   ]
  }
 ],
 "metadata": {
  "interpreter": {
   "hash": "686fd8410458d236be37e06d50956d57c9e187bbeb945bd82505b345715faa5c"
  },
  "kernelspec": {
   "display_name": "Python 3.8.5 64-bit",
   "language": "python",
   "name": "python3"
  },
  "language_info": {
   "codemirror_mode": {
    "name": "ipython",
    "version": 3
   },
   "file_extension": ".py",
   "mimetype": "text/x-python",
   "name": "python",
   "nbconvert_exporter": "python",
   "pygments_lexer": "ipython3",
   "version": "3.8.5"
  },
  "orig_nbformat": 4
 },
 "nbformat": 4,
 "nbformat_minor": 2
}
